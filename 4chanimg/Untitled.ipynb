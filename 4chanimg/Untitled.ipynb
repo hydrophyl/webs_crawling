{
 "cells": [
  {
   "cell_type": "code",
   "execution_count": 1,
   "id": "micro-electricity",
   "metadata": {},
   "outputs": [],
   "source": [
    "import wget"
   ]
  },
  {
   "cell_type": "code",
   "execution_count": 2,
   "id": "center-geometry",
   "metadata": {},
   "outputs": [
    {
     "name": "stdout",
     "output_type": "stream",
     "text": [
      "100% [..............................................................................] 38931 / 38931"
     ]
    },
    {
     "data": {
      "text/plain": [
       "'2021-02-27_sds011_sensor_11467.csv'"
      ]
     },
     "execution_count": 2,
     "metadata": {},
     "output_type": "execute_result"
    }
   ],
   "source": [
    "wget.download(\"https://archive.sensor.community/2021-02-27/2021-02-27_sds011_sensor_11467.csv\")"
   ]
  },
  {
   "cell_type": "code",
   "execution_count": null,
   "id": "disabled-translator",
   "metadata": {},
   "outputs": [],
   "source": [
    "from datetime import date\n",
    "\n",
    "today = date.today()\n"
   ]
  }
 ],
 "metadata": {
  "kernelspec": {
   "display_name": "Python 3",
   "language": "python",
   "name": "python3"
  },
  "language_info": {
   "codemirror_mode": {
    "name": "ipython",
    "version": 3
   },
   "file_extension": ".py",
   "mimetype": "text/x-python",
   "name": "python",
   "nbconvert_exporter": "python",
   "pygments_lexer": "ipython3",
   "version": "3.8.5"
  }
 },
 "nbformat": 4,
 "nbformat_minor": 5
}
