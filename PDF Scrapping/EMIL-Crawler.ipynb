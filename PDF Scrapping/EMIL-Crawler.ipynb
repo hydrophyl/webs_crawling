{
 "cells": [
  {
   "cell_type": "code",
   "execution_count": 1,
   "id": "spare-jacket",
   "metadata": {},
   "outputs": [],
   "source": [
    "from selenium import webdriver\n",
    "from selenium.webdriver.common.keys import Keys\n",
    "from selenium.webdriver.support import expected_conditions as EC\n",
    "from selenium.webdriver.common.by import By\n",
    "from selenium.webdriver.support.wait import WebDriverWait\n"
   ]
  },
  {
   "cell_type": "code",
   "execution_count": 2,
   "id": "excellent-starter",
   "metadata": {},
   "outputs": [
    {
     "data": {
      "text/plain": [
       "'C:\\\\Users\\\\Admin\\\\Documents\\\\webs_crawling\\\\PDF Scrapping\\\\aluebung'"
      ]
     },
     "execution_count": 2,
     "metadata": {},
     "output_type": "execute_result"
    }
   ],
   "source": [
    "import os\n",
    "path = os.getcwd()\n",
    "path = os.path.join(path + \"\\\\aluebung\")\n",
    "path"
   ]
  },
  {
   "cell_type": "code",
   "execution_count": 3,
   "id": "impaired-tribe",
   "metadata": {},
   "outputs": [],
   "source": [
    "options = webdriver.ChromeOptions()\n",
    "profile = {\"plugins.plugins_list\": [{\"enabled\": False, \"name\": \"Chrome PDF Viewer\"}], # Disable Chrome's PDF Viewer\n",
    "               \"download.default_directory\": path , \"download.extensions_to_open\": \"applications/pdf\"}\n",
    "options.add_experimental_option(\"prefs\", profile)"
   ]
  },
  {
   "cell_type": "code",
   "execution_count": 4,
   "id": "banner-cycle",
   "metadata": {},
   "outputs": [
    {
     "name": "stderr",
     "output_type": "stream",
     "text": [
      "<ipython-input-4-f22412e5f278>:2: DeprecationWarning: use options instead of chrome_options\n",
      "  driver = webdriver.Chrome('C:/Users/Admin/Documents/chromedriver.exe', chrome_options=options)\n"
     ]
    }
   ],
   "source": [
    "#specify the path to chromedriver.exe (download and save on your computer)\n",
    "driver = webdriver.Chrome('C:/Users/Admin/Documents/chromedriver.exe', chrome_options=options)\n",
    "\n",
    "#open the webpage\n",
    "driver.get(\"https://emil.haw-hamburg.de/mod/folder/view.php?id=1722891\")\n",
    "\n",
    "#target username\n",
    "username = WebDriverWait(driver, 10).until(EC.element_to_be_clickable((By.CSS_SELECTOR, \"input[name='username']\")))\n",
    "password = WebDriverWait(driver, 10).until(EC.element_to_be_clickable((By.CSS_SELECTOR, \"input[name='password']\")))\n",
    "\n",
    "#enter username and password\n",
    "username.clear()\n",
    "username.send_keys(\"acj972\")\n",
    "password.clear()\n",
    "password.send_keys(\"Vnio20!@\")\n",
    "\n",
    "#target the login button and click it\n",
    "button = WebDriverWait(driver, 2).until(EC.element_to_be_clickable((By.CSS_SELECTOR, \"button[type='submit']\"))).click()\n",
    "\n",
    "#We are logged in!"
   ]
  },
  {
   "cell_type": "code",
   "execution_count": 5,
   "id": "natural-republican",
   "metadata": {},
   "outputs": [
    {
     "data": {
      "text/plain": [
       "['https://emil.haw-hamburg.de/mod/folder/view.php?id=1722891#maincontent',\n",
       " 'https://emil.haw-hamburg.de/',\n",
       " 'https://emil.haw-hamburg.de/mod/folder/view.php?id=1722891#studentdashslider',\n",
       " 'https://emil.haw-hamburg.de/course/index.php',\n",
       " 'https://emil.haw-hamburg.de/mod/folder/view.php?id=1722891#',\n",
       " 'https://emil.haw-hamburg.de/mod/book/view.php?id=1025822',\n",
       " 'https://emil.haw-hamburg.de/mod/book/view.php?id=1029623',\n",
       " 'https://emil.haw-hamburg.de/mod/book/view.php?id=1029620',\n",
       " 'https://emil.haw-hamburg.de/mod/page/view.php?id=1025805',\n",
       " 'https://emil.haw-hamburg.de/mod/page/view.php?id=1025787',\n",
       " 'https://emil.haw-hamburg.de/mod/folder/view.php?id=1722891#',\n",
       " 'https://emil.haw-hamburg.de/mod/folder/view.php?id=1722891&lang=de',\n",
       " 'https://emil.haw-hamburg.de/mod/folder/view.php?id=1722891&lang=en',\n",
       " 'https://emil.haw-hamburg.de/mod/folder/view.php?id=1722891#',\n",
       " 'https://emil.haw-hamburg.de/message/notificationpreferences.php?userid=20837',\n",
       " 'https://emil.haw-hamburg.de/message/output/popup/notifications.php',\n",
       " 'https://emil.haw-hamburg.de/mod/folder/view.php?id=1722891#',\n",
       " 'https://emil.haw-hamburg.de/mod/folder/view.php?id=1722891#',\n",
       " 'https://emil.haw-hamburg.de/my/',\n",
       " 'https://emil.haw-hamburg.de/user/profile.php?id=20837',\n",
       " 'https://emil.haw-hamburg.de/grade/report/overview/index.php',\n",
       " 'https://emil.haw-hamburg.de/message/index.php',\n",
       " 'https://emil.haw-hamburg.de/user/preferences.php',\n",
       " 'https://emil.haw-hamburg.de/login/logout.php?sesskey=UNLCsoyJQU',\n",
       " 'https://emil.haw-hamburg.de/grade/report/user/index.php?id=42198',\n",
       " 'https://emil.haw-hamburg.de/course/admin.php?courseid=42198',\n",
       " 'https://emil.haw-hamburg.de/user/view.php?id=23990&course=42198',\n",
       " 'mailto:joern.einfeldt@haw-hamburg.de',\n",
       " 'https://emil.haw-hamburg.de/message/index.php?id=23990',\n",
       " 'https://emil.haw-hamburg.de/user/view.php?id=94603&course=42198',\n",
       " 'mailto:klaus-peter.prigge@haw-hamburg.de',\n",
       " 'https://emil.haw-hamburg.de/message/index.php?id=94603',\n",
       " 'https://emil.haw-hamburg.de/mod/choice/index.php?id=42198',\n",
       " 'https://emil.haw-hamburg.de/course/resources.php?id=42198',\n",
       " 'https://emil.haw-hamburg.de/mod/forum/index.php?id=42198',\n",
       " 'https://emil.haw-hamburg.de/course/view.php?id=42198',\n",
       " 'https://emil.haw-hamburg.de/my/',\n",
       " 'https://emil.haw-hamburg.de/course/view.php?id=42198',\n",
       " 'https://emil.haw-hamburg.de/course/view.php?id=42198#section-3',\n",
       " 'https://emil.haw-hamburg.de/mod/folder/view.php?id=1722891',\n",
       " 'https://emil.haw-hamburg.de/mod/folder/view.php?id=1722891#',\n",
       " 'https://emil.haw-hamburg.de/mod/folder/view.php?id=1722891#',\n",
       " 'https://emil.haw-hamburg.de/pluginfile.php/2140176/mod_folder/content/0/Aufgaben%20mit%20Nomogramm%2029_03_2017_EMIL.pdf?forcedownload=1',\n",
       " 'https://emil.haw-hamburg.de/mod/folder/view.php?id=1722891#',\n",
       " 'https://emil.haw-hamburg.de/pluginfile.php/2140176/mod_folder/content/0/Hausaufgabe%20Verbrennung%20und%20Schornstein_EMIL.pdf?forcedownload=1',\n",
       " 'https://emil.haw-hamburg.de/mod/folder/view.php?id=1722891#',\n",
       " 'https://emil.haw-hamburg.de/pluginfile.php/2140176/mod_folder/content/0/Klausur%20mit%20Musterl%C3%B6sung.pdf?forcedownload=1',\n",
       " 'https://emil.haw-hamburg.de/mod/folder/view.php?id=1722891#',\n",
       " 'https://emil.haw-hamburg.de/pluginfile.php/2140176/mod_folder/content/0/Klausur%20SS%202011%20Musterl%C3%B6sungen_EMIL.pdf?forcedownload=1',\n",
       " 'https://emil.haw-hamburg.de/mod/folder/view.php?id=1722891#',\n",
       " 'https://emil.haw-hamburg.de/pluginfile.php/2140176/mod_folder/content/0/Klausur%20SS%202012_lang_EMIL.pdf?forcedownload=1',\n",
       " 'https://emil.haw-hamburg.de/mod/folder/view.php?id=1722891#',\n",
       " 'https://emil.haw-hamburg.de/pluginfile.php/2140176/mod_folder/content/0/Klausur%20WS%202014-15_Loesungen_EMIL.pdf?forcedownload=1',\n",
       " 'https://emil.haw-hamburg.de/mod/folder/view.php?id=1722891#',\n",
       " 'https://emil.haw-hamburg.de/pluginfile.php/2140176/mod_folder/content/0/Klausurrelevante%20Themen_oL.docx.pdf?forcedownload=1',\n",
       " 'https://emil.haw-hamburg.de/mod/folder/view.php?id=1722891#',\n",
       " 'https://emil.haw-hamburg.de/pluginfile.php/2140176/mod_folder/content/0/Klausurvorbereitung.pdf?forcedownload=1',\n",
       " 'https://emil.haw-hamburg.de/mod/folder/view.php?id=1722891#',\n",
       " 'https://emil.haw-hamburg.de/pluginfile.php/2140176/mod_folder/content/0/%C3%9Cbungsaufgaben%20Reinigung_EMIL.pdf?forcedownload=1',\n",
       " 'https://emil.haw-hamburg.de/mod/folder/view.php?id=1722891#',\n",
       " 'https://emil.haw-hamburg.de/pluginfile.php/2140176/mod_folder/content/0/%C3%9Cbungsaufgaben%20Verbrennung%20mit%20Lsg.pdf?forcedownload=1',\n",
       " 'https://emil.haw-hamburg.de/mod/folder/view.php?id=1722891#',\n",
       " 'https://emil.haw-hamburg.de/pluginfile.php/2140176/mod_folder/content/0/%C3%9Cbungsaufgaben.pdf?forcedownload=1',\n",
       " 'https://emil.haw-hamburg.de/mod/folder/view.php?id=1722891#',\n",
       " 'https://emil.haw-hamburg.de/mod/folder/view.php?id=1722891#',\n",
       " 'https://emil.haw-hamburg.de/mod/folder/view.php?id=1722891#',\n",
       " 'https://emil.haw-hamburg.de/mod/folder/view.php?id=1722891#',\n",
       " 'https://emil.haw-hamburg.de/mod/folder/view.php?id=1722891#',\n",
       " 'https://emil.haw-hamburg.de/mod/folder/view.php?id=1722891#',\n",
       " 'https://emil.haw-hamburg.de/mod/folder/view.php?id=1722891#',\n",
       " 'https://emil.haw-hamburg.de/mod/folder/view.php?id=1722891#contacts-tab-panel-6035163f8eee36035163f7764417',\n",
       " 'https://emil.haw-hamburg.de/mod/folder/view.php?id=1722891#requests-tab-panel-6035163f8eee36035163f7764417',\n",
       " 'https://emil.haw-hamburg.de/message/index.php',\n",
       " 'https://emil.haw-hamburg.de/course/view.php?id=42198',\n",
       " 'https://emil.haw-hamburg.de/user/index.php?id=42198',\n",
       " 'https://emil.haw-hamburg.de/badges/view.php?type=2&id=42198',\n",
       " 'https://emil.haw-hamburg.de/admin/tool/lp/coursecompetencies.php?courseid=42198',\n",
       " 'https://emil.haw-hamburg.de/grade/report/index.php?id=42198',\n",
       " 'https://emil.haw-hamburg.de/course/view.php?id=42198#section-0',\n",
       " 'https://emil.haw-hamburg.de/course/view.php?id=42198#section-1',\n",
       " 'https://emil.haw-hamburg.de/course/view.php?id=42198#section-2',\n",
       " 'https://emil.haw-hamburg.de/course/view.php?id=42198#section-3',\n",
       " 'https://emil.haw-hamburg.de/course/view.php?id=42198#section-4',\n",
       " 'https://emil.haw-hamburg.de/course/view.php?id=42198#section-5',\n",
       " 'https://emil.haw-hamburg.de/my/',\n",
       " 'https://emil.haw-hamburg.de/?redirect=0',\n",
       " 'https://emil.haw-hamburg.de/calendar/view.php?view=month&course=42198',\n",
       " 'https://emil.haw-hamburg.de/user/files.php',\n",
       " 'https://emil.haw-hamburg.de/course/view.php?id=48175',\n",
       " 'https://emil.haw-hamburg.de/course/view.php?id=47614',\n",
       " 'https://emil.haw-hamburg.de/course/view.php?id=47611',\n",
       " 'https://emil.haw-hamburg.de/course/view.php?id=28902',\n",
       " 'https://emil.haw-hamburg.de/course/view.php?id=36811',\n",
       " 'https://emil.haw-hamburg.de/course/view.php?id=42483',\n",
       " 'https://emil.haw-hamburg.de/course/view.php?id=42273',\n",
       " 'https://emil.haw-hamburg.de/course/view.php?id=42198',\n",
       " 'https://emil.haw-hamburg.de/course/view.php?id=42204',\n",
       " 'https://emil.haw-hamburg.de/course/view.php?id=37998',\n",
       " 'https://emil.haw-hamburg.de/my/',\n",
       " 'https://emil.haw-hamburg.de/mod/folder/view.php?id=1722888&forceview=1',\n",
       " 'https://emil.haw-hamburg.de/mod/resource/view.php?id=1722897&forceview=1',\n",
       " 'https://emil.haw-hamburg.de/user/profile.php?id=20837',\n",
       " 'https://emil.haw-hamburg.de/login/logout.php?sesskey=UNLCsoyJQU',\n",
       " 'https://emil.haw-hamburg.de/course/view.php?id=42198',\n",
       " 'https://de-de.facebook.com/HAW.Hamburg',\n",
       " 'https://twitter.com/HAW_Hamburg',\n",
       " 'https://www.youtube.com/user/HAWHamburg',\n",
       " 'https://www.instagram.com/hawhamburg',\n",
       " 'http://www.haw-hamburg.de/',\n",
       " 'https://emil.haw-hamburg.de/course/index.php',\n",
       " 'https://emil.haw-hamburg.de/mod/book/view.php?id=1025822',\n",
       " 'https://emil.haw-hamburg.de/mod/book/view.php?id=1029623',\n",
       " 'https://emil.haw-hamburg.de/mod/book/view.php?id=1029620',\n",
       " 'https://emil.haw-hamburg.de/mod/page/view.php?id=1025805',\n",
       " 'https://emil.haw-hamburg.de/mod/page/view.php?id=1025787',\n",
       " 'https://emil.haw-hamburg.de/mod/folder/view.php?id=1722891#',\n",
       " 'https://emil.haw-hamburg.de/mod/folder/view.php?id=1722891&lang=de',\n",
       " 'https://emil.haw-hamburg.de/mod/folder/view.php?id=1722891&lang=en',\n",
       " 'https://emil.haw-hamburg.de/admin/tool/dataprivacy/summary.php',\n",
       " 'https://emil.haw-hamburg.de/admin/tool/policy/viewall.php?returnurl=https%3A%2F%2Femil.haw-hamburg.de%2Fmod%2Ffolder%2Fview.php%3Fid%3D1722891',\n",
       " 'https://emil.haw-hamburg.de/mod/page/view.php?id=1025796',\n",
       " 'https://emil.haw-hamburg.de/mod/page/view.php?id=1949726&forceview=1',\n",
       " 'https://emil.haw-hamburg.de/mod/page/view.php?id=1025799',\n",
       " 'https://emil.haw-hamburg.de/mod/page/view.php?id=1949732',\n",
       " 'https://emil.haw-hamburg.de/mod/page/view.php?id=1025808',\n",
       " 'https://emil.haw-hamburg.de/mod/page/view.php?id=1949735',\n",
       " 'https://emil.haw-hamburg.de/mod/folder/view.php?id=1722891#']"
      ]
     },
     "execution_count": 5,
     "metadata": {},
     "output_type": "execute_result"
    }
   ],
   "source": [
    "pdfs = driver.find_elements_by_tag_name('a')\n",
    "pdfs = [pdf.get_attribute('href') for pdf in pdfs]\n",
    "pdfs"
   ]
  },
  {
   "cell_type": "code",
   "execution_count": 6,
   "id": "funky-transmission",
   "metadata": {
    "scrolled": true
   },
   "outputs": [
    {
     "name": "stdout",
     "output_type": "stream",
     "text": [
      "https://emil.haw-hamburg.de/pluginfile.php/2140176/mod_folder/content/0/Aufgaben%20mit%20Nomogramm%2029_03_2017_EMIL.pdf?forcedownload=1\n",
      "https://emil.haw-hamburg.de/pluginfile.php/2140176/mod_folder/content/0/Hausaufgabe%20Verbrennung%20und%20Schornstein_EMIL.pdf?forcedownload=1\n",
      "https://emil.haw-hamburg.de/pluginfile.php/2140176/mod_folder/content/0/Klausur%20mit%20Musterl%C3%B6sung.pdf?forcedownload=1\n",
      "https://emil.haw-hamburg.de/pluginfile.php/2140176/mod_folder/content/0/Klausur%20SS%202011%20Musterl%C3%B6sungen_EMIL.pdf?forcedownload=1\n",
      "https://emil.haw-hamburg.de/pluginfile.php/2140176/mod_folder/content/0/Klausur%20SS%202012_lang_EMIL.pdf?forcedownload=1\n",
      "https://emil.haw-hamburg.de/pluginfile.php/2140176/mod_folder/content/0/Klausur%20WS%202014-15_Loesungen_EMIL.pdf?forcedownload=1\n",
      "https://emil.haw-hamburg.de/pluginfile.php/2140176/mod_folder/content/0/Klausurrelevante%20Themen_oL.docx.pdf?forcedownload=1\n",
      "https://emil.haw-hamburg.de/pluginfile.php/2140176/mod_folder/content/0/Klausurvorbereitung.pdf?forcedownload=1\n",
      "https://emil.haw-hamburg.de/pluginfile.php/2140176/mod_folder/content/0/%C3%9Cbungsaufgaben%20Reinigung_EMIL.pdf?forcedownload=1\n",
      "https://emil.haw-hamburg.de/pluginfile.php/2140176/mod_folder/content/0/%C3%9Cbungsaufgaben%20Verbrennung%20mit%20Lsg.pdf?forcedownload=1\n",
      "https://emil.haw-hamburg.de/pluginfile.php/2140176/mod_folder/content/0/%C3%9Cbungsaufgaben.pdf?forcedownload=1\n"
     ]
    }
   ],
   "source": [
    "pdfs = driver.find_elements_by_tag_name('a')\n",
    "pdfs = [pdf.get_attribute('href') for pdf in pdfs]\n",
    "truelink = \"https://emil.haw-hamburg.de/pluginfile.php/2140176/mod_folder/content/0/\"\n",
    "goods = []\n",
    "\n",
    "for i in range(len(pdfs)): \n",
    "    if pdfs[i] == None:\n",
    "        pass\n",
    "    elif truelink in pdfs[i]:\n",
    "        print(pdfs[i])\n",
    "        goods.append(pdfs[i])\n",
    "    else:\n",
    "        pass"
   ]
  },
  {
   "cell_type": "code",
   "execution_count": 7,
   "id": "technological-liechtenstein",
   "metadata": {},
   "outputs": [],
   "source": [
    "for i in range(len(goods)):\n",
    "    driver.get(goods[i])"
   ]
  },
  {
   "cell_type": "code",
   "execution_count": null,
   "id": "happy-legislature",
   "metadata": {},
   "outputs": [],
   "source": []
  }
 ],
 "metadata": {
  "kernelspec": {
   "display_name": "Python 3",
   "language": "python",
   "name": "python3"
  },
  "language_info": {
   "codemirror_mode": {
    "name": "ipython",
    "version": 3
   },
   "file_extension": ".py",
   "mimetype": "text/x-python",
   "name": "python",
   "nbconvert_exporter": "python",
   "pygments_lexer": "ipython3",
   "version": "3.8.5"
  }
 },
 "nbformat": 4,
 "nbformat_minor": 5
}
