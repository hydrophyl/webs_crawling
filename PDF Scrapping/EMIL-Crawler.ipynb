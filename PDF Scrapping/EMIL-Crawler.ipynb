{
 "cells": [
  {
   "cell_type": "code",
   "execution_count": 9,
   "id": "charitable-cricket",
   "metadata": {
    "scrolled": true
   },
   "outputs": [
    {
     "name": "stdout",
     "output_type": "stream",
     "text": [
      "Requirement already satisfied: selenium in c:\\users\\admin\\miniconda3\\envs\\flask\\lib\\site-packages (3.141.0)\n",
      "Requirement already satisfied: urllib3 in c:\\users\\admin\\miniconda3\\envs\\flask\\lib\\site-packages (from selenium) (1.25.10)\n"
     ]
    }
   ],
   "source": [
    "!pip install selenium"
   ]
  },
  {
   "cell_type": "code",
   "execution_count": 8,
   "id": "spare-jacket",
   "metadata": {},
   "outputs": [],
   "source": [
    "from selenium import webdriver\n",
    "from selenium.webdriver.common.keys import Keys\n",
    "from selenium.webdriver.support import expected_conditions as EC\n",
    "from selenium.webdriver.common.by import By\n",
    "from selenium.webdriver.support.wait import WebDriverWait\n"
   ]
  },
  {
   "cell_type": "code",
   "execution_count": 37,
   "id": "excellent-starter",
   "metadata": {},
   "outputs": [
    {
     "data": {
      "text/plain": [
       "'C:\\\\Users\\\\Admin\\\\Documents\\\\webs_crawling\\\\PDF Scrapping\\\\pdf'"
      ]
     },
     "execution_count": 37,
     "metadata": {},
     "output_type": "execute_result"
    }
   ],
   "source": [
    "import os\n",
    "path = os.getcwd()\n",
    "path = os.path.join(path + \"\\\\pdf\")\n",
    "path"
   ]
  },
  {
   "cell_type": "code",
   "execution_count": 38,
   "id": "impaired-tribe",
   "metadata": {},
   "outputs": [],
   "source": [
    "options = webdriver.ChromeOptions()\n",
    "profile = {\"plugins.plugins_list\": [{\"enabled\": False, \"name\": \"Chrome PDF Viewer\"}], # Disable Chrome's PDF Viewer\n",
    "               \"download.default_directory\": path , \"download.extensions_to_open\": \"applications/pdf\"}\n",
    "options.add_experimental_option(\"prefs\", profile)"
   ]
  },
  {
   "cell_type": "code",
   "execution_count": 39,
   "id": "banner-cycle",
   "metadata": {},
   "outputs": [
    {
     "name": "stderr",
     "output_type": "stream",
     "text": [
      "<ipython-input-39-b5f94c4b065d>:2: DeprecationWarning: use options instead of chrome_options\n",
      "  driver = webdriver.Chrome('C:/Users/Admin/Documents/chromedriver.exe', chrome_options=options)\n"
     ]
    }
   ],
   "source": [
    "#specify the path to chromedriver.exe (download and save on your computer)\n",
    "driver = webdriver.Chrome('C:/Users/Admin/Documents/chromedriver.exe', chrome_options=options)\n",
    "\n",
    "#open the webpage\n",
    "driver.get(\"https://emil.haw-hamburg.de/course/view.php?id=42204\")\n",
    "\n",
    "#target username\n",
    "username = WebDriverWait(driver, 10).until(EC.element_to_be_clickable((By.CSS_SELECTOR, \"input[name='username']\")))\n",
    "password = WebDriverWait(driver, 10).until(EC.element_to_be_clickable((By.CSS_SELECTOR, \"input[name='password']\")))\n",
    "\n",
    "#enter username and password\n",
    "username.clear()\n",
    "username.send_keys(\"acj972\")\n",
    "password.clear()\n",
    "password.send_keys(\"Vnio20!@\")\n",
    "\n",
    "#target the login button and click it\n",
    "button = WebDriverWait(driver, 2).until(EC.element_to_be_clickable((By.CSS_SELECTOR, \"button[type='submit']\"))).click()\n",
    "\n",
    "#We are logged in!"
   ]
  },
  {
   "cell_type": "code",
   "execution_count": 40,
   "id": "funky-transmission",
   "metadata": {
    "scrolled": true
   },
   "outputs": [
    {
     "name": "stdout",
     "output_type": "stream",
     "text": [
      "https://emil.haw-hamburg.de/mod/resource/view.php?id=1930921\n",
      "https://emil.haw-hamburg.de/mod/resource/view.php?id=1930924\n",
      "https://emil.haw-hamburg.de/mod/resource/view.php?id=1930927\n",
      "https://emil.haw-hamburg.de/mod/resource/view.php?id=1930930\n",
      "https://emil.haw-hamburg.de/mod/resource/view.php?id=1939145\n",
      "https://emil.haw-hamburg.de/mod/resource/view.php?id=1939148\n",
      "https://emil.haw-hamburg.de/mod/resource/view.php?id=1939151\n",
      "https://emil.haw-hamburg.de/mod/resource/view.php?id=1939154\n",
      "https://emil.haw-hamburg.de/mod/resource/view.php?id=1939187\n",
      "https://emil.haw-hamburg.de/mod/resource/view.php?id=1939193\n",
      "https://emil.haw-hamburg.de/mod/resource/view.php?id=1939199\n",
      "https://emil.haw-hamburg.de/mod/resource/view.php?id=1939205\n",
      "https://emil.haw-hamburg.de/mod/resource/view.php?id=1939211\n",
      "https://emil.haw-hamburg.de/mod/resource/view.php?id=1939265\n",
      "https://emil.haw-hamburg.de/mod/resource/view.php?id=1939280\n",
      "https://emil.haw-hamburg.de/mod/resource/view.php?id=1939283\n",
      "https://emil.haw-hamburg.de/mod/resource/view.php?id=1939289\n",
      "https://emil.haw-hamburg.de/mod/resource/view.php?id=1940525\n",
      "https://emil.haw-hamburg.de/mod/resource/view.php?id=1940528\n",
      "https://emil.haw-hamburg.de/mod/resource/view.php?id=1723434\n",
      "https://emil.haw-hamburg.de/mod/resource/view.php?id=1940537\n",
      "https://emil.haw-hamburg.de/mod/resource/view.php?id=1940543\n",
      "https://emil.haw-hamburg.de/mod/resource/view.php?id=1956857\n",
      "https://emil.haw-hamburg.de/mod/resource/view.php?id=1723446\n",
      "https://emil.haw-hamburg.de/mod/resource/view.php?id=1956848\n",
      "https://emil.haw-hamburg.de/mod/resource/view.php?id=1723452\n",
      "https://emil.haw-hamburg.de/mod/resource/view.php?id=1958453\n",
      "https://emil.haw-hamburg.de/mod/resource/view.php?id=1958462\n",
      "https://emil.haw-hamburg.de/mod/resource/view.php?id=1958486\n",
      "https://emil.haw-hamburg.de/mod/resource/view.php?id=1958489\n",
      "https://emil.haw-hamburg.de/mod/resource/view.php?id=1723467\n",
      "https://emil.haw-hamburg.de/mod/resource/view.php?id=1723470\n",
      "https://emil.haw-hamburg.de/mod/resource/view.php?id=1968407\n",
      "https://emil.haw-hamburg.de/mod/resource/view.php?id=1968428\n",
      "https://emil.haw-hamburg.de/mod/resource/view.php?id=1968431\n",
      "https://emil.haw-hamburg.de/mod/resource/view.php?id=1968437\n",
      "https://emil.haw-hamburg.de/mod/resource/view.php?id=1968452\n",
      "https://emil.haw-hamburg.de/mod/resource/view.php?id=1977149\n",
      "https://emil.haw-hamburg.de/mod/resource/view.php?id=1977155\n",
      "https://emil.haw-hamburg.de/mod/resource/view.php?id=1977158\n",
      "https://emil.haw-hamburg.de/mod/resource/view.php?id=1977143\n",
      "https://emil.haw-hamburg.de/mod/resource/view.php?id=1979642\n",
      "https://emil.haw-hamburg.de/mod/resource/view.php?id=1979645\n",
      "https://emil.haw-hamburg.de/mod/resource/view.php?id=1979648\n",
      "https://emil.haw-hamburg.de/mod/resource/view.php?id=1979651\n",
      "https://emil.haw-hamburg.de/mod/resource/view.php?id=1979654\n",
      "https://emil.haw-hamburg.de/mod/resource/view.php?id=1979657\n",
      "https://emil.haw-hamburg.de/mod/resource/view.php?id=1979660\n",
      "https://emil.haw-hamburg.de/mod/resource/view.php?id=1979663\n",
      "https://emil.haw-hamburg.de/mod/resource/view.php?id=1723536\n",
      "https://emil.haw-hamburg.de/mod/resource/view.php?id=1723533\n",
      "https://emil.haw-hamburg.de/mod/resource/view.php?id=1979666\n",
      "https://emil.haw-hamburg.de/mod/resource/view.php?id=1990496\n",
      "https://emil.haw-hamburg.de/mod/resource/view.php?id=1990502\n",
      "https://emil.haw-hamburg.de/mod/resource/view.php?id=1990508\n",
      "https://emil.haw-hamburg.de/mod/resource/view.php?id=1990514\n",
      "https://emil.haw-hamburg.de/mod/resource/view.php?id=1723557\n",
      "https://emil.haw-hamburg.de/mod/resource/view.php?id=1994411\n",
      "https://emil.haw-hamburg.de/mod/resource/view.php?id=1997012\n",
      "https://emil.haw-hamburg.de/mod/resource/view.php?id=1997018\n",
      "https://emil.haw-hamburg.de/mod/resource/view.php?id=1997024\n",
      "https://emil.haw-hamburg.de/mod/resource/view.php?id=1997027\n",
      "https://emil.haw-hamburg.de/mod/resource/view.php?id=1997033\n",
      "https://emil.haw-hamburg.de/mod/resource/view.php?id=2008451\n",
      "https://emil.haw-hamburg.de/mod/resource/view.php?id=2008454\n",
      "https://emil.haw-hamburg.de/mod/resource/view.php?id=2008460\n",
      "https://emil.haw-hamburg.de/mod/resource/view.php?id=2008463\n",
      "https://emil.haw-hamburg.de/mod/resource/view.php?id=1723593\n",
      "https://emil.haw-hamburg.de/mod/resource/view.php?id=2008472\n",
      "https://emil.haw-hamburg.de/mod/resource/view.php?id=2008475\n",
      "https://emil.haw-hamburg.de/mod/resource/view.php?id=2020511\n",
      "https://emil.haw-hamburg.de/mod/resource/view.php?id=2020520\n",
      "https://emil.haw-hamburg.de/mod/resource/view.php?id=2020523\n",
      "https://emil.haw-hamburg.de/mod/resource/view.php?id=2020526\n",
      "https://emil.haw-hamburg.de/mod/resource/view.php?id=2020535\n",
      "https://emil.haw-hamburg.de/mod/resource/view.php?id=2020538\n",
      "https://emil.haw-hamburg.de/mod/resource/view.php?id=2020544\n",
      "https://emil.haw-hamburg.de/mod/resource/view.php?id=1723623\n",
      "https://emil.haw-hamburg.de/mod/resource/view.php?id=2020553\n",
      "https://emil.haw-hamburg.de/mod/resource/view.php?id=2020556\n",
      "https://emil.haw-hamburg.de/mod/resource/view.php?id=2020559\n",
      "https://emil.haw-hamburg.de/mod/resource/view.php?id=2027935\n",
      "https://emil.haw-hamburg.de/mod/resource/view.php?id=2027938\n",
      "https://emil.haw-hamburg.de/mod/resource/view.php?id=2027941\n",
      "https://emil.haw-hamburg.de/mod/resource/view.php?id=2027947\n",
      "https://emil.haw-hamburg.de/mod/resource/view.php?id=2027950\n",
      "https://emil.haw-hamburg.de/mod/resource/view.php?id=2028763\n",
      "https://emil.haw-hamburg.de/mod/resource/view.php?id=2028760\n",
      "https://emil.haw-hamburg.de/mod/resource/view.php?id=2028766\n",
      "https://emil.haw-hamburg.de/mod/resource/view.php?id=2028778\n",
      "https://emil.haw-hamburg.de/mod/resource/view.php?id=2028781\n",
      "https://emil.haw-hamburg.de/mod/resource/view.php?id=2028784\n",
      "https://emil.haw-hamburg.de/mod/resource/view.php?id=2028787\n"
     ]
    }
   ],
   "source": [
    "pdfs = driver.find_elements_by_tag_name('a')\n",
    "pdfs = [pdf.get_attribute('href') for pdf in pdfs]\n",
    "truelink = \"https://emil.haw-hamburg.de/mod/resource/view.php?id=\"\n",
    "goods = []\n",
    "\n",
    "for i in range(1,220): \n",
    "    if pdfs[i] == None:\n",
    "        pass\n",
    "    elif truelink in pdfs[i]:\n",
    "        print(pdfs[i])\n",
    "        goods.append(pdfs[i])\n",
    "    else:\n",
    "        pass"
   ]
  },
  {
   "cell_type": "code",
   "execution_count": 56,
   "id": "technological-liechtenstein",
   "metadata": {},
   "outputs": [],
   "source": [
    "for i in range(len(goods)):\n",
    "    driver.get(goods[i])"
   ]
  }
 ],
 "metadata": {
  "kernelspec": {
   "display_name": "Python 3",
   "language": "python",
   "name": "python3"
  },
  "language_info": {
   "codemirror_mode": {
    "name": "ipython",
    "version": 3
   },
   "file_extension": ".py",
   "mimetype": "text/x-python",
   "name": "python",
   "nbconvert_exporter": "python",
   "pygments_lexer": "ipython3",
   "version": "3.8.5"
  }
 },
 "nbformat": 4,
 "nbformat_minor": 5
}
