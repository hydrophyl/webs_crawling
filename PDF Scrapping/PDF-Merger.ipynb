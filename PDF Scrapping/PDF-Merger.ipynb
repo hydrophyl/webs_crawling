{
 "cells": [
  {
   "cell_type": "code",
   "execution_count": 1,
   "id": "understood-immune",
   "metadata": {
    "scrolled": true
   },
   "outputs": [
    {
     "name": "stdout",
     "output_type": "stream",
     "text": [
      "Requirement already satisfied: PyPDF2 in c:\\users\\admin\\miniconda3\\envs\\flask\\lib\\site-packages (1.26.0)\n"
     ]
    }
   ],
   "source": [
    "!pip install PyPDF2"
   ]
  },
  {
   "cell_type": "code",
   "execution_count": 2,
   "id": "thorough-welding",
   "metadata": {},
   "outputs": [],
   "source": [
    "from PyPDF2 import PdfFileReader, PdfFileMerger"
   ]
  },
  {
   "cell_type": "code",
   "execution_count": 3,
   "id": "floral-death",
   "metadata": {
    "scrolled": true
   },
   "outputs": [
    {
     "data": {
      "text/plain": [
       "'C:\\\\Users\\\\Admin\\\\Documents\\\\webs_crawling\\\\PDF Scrapping\\\\pdf'"
      ]
     },
     "execution_count": 3,
     "metadata": {},
     "output_type": "execute_result"
    }
   ],
   "source": [
    "import os\n",
    "path = os.getcwd()\n",
    "path = os.path.join(path + \"\\\\pdf\")\n",
    "path"
   ]
  },
  {
   "cell_type": "code",
   "execution_count": 31,
   "id": "regular-graphics",
   "metadata": {
    "scrolled": true
   },
   "outputs": [
    {
     "name": "stdout",
     "output_type": "stream",
     "text": [
      "C:\\Users\\Admin\\Documents\\webs_crawling\\PDF Scrapping\\pdf\\001-UVT-WS 2020-21 Organisatorisches.pdf\n",
      "C:\\Users\\Admin\\Documents\\webs_crawling\\PDF Scrapping\\pdf\\002-UVT-WS 2020-21 Kapitel 1 Einführung.pdf\n",
      "C:\\Users\\Admin\\Documents\\webs_crawling\\PDF Scrapping\\pdf\\003a-UVT-WS 2020-21 Kapitel 2 Stoffsysteme.pdf\n",
      "C:\\Users\\Admin\\Documents\\webs_crawling\\PDF Scrapping\\pdf\\003b-UVT-WS 2020-21 Kapitel 2 Stoffsysteme Verteilungskurven - Mueller 2014.pdf\n",
      "C:\\Users\\Admin\\Documents\\webs_crawling\\PDF Scrapping\\pdf\\004-UVT-WS 2020-21 Kapitel 2 Aufgabe 2.1 Loesung.pdf\n",
      "C:\\Users\\Admin\\Documents\\webs_crawling\\PDF Scrapping\\pdf\\005-UVT-WS 2020-21 Kapitel 2 Aufgabe 2.2 Loesung.pdf\n",
      "C:\\Users\\Admin\\Documents\\webs_crawling\\PDF Scrapping\\pdf\\006-UVT-WS 2020-21 Kapitel 2 Aufgabe 2.3 Loesung.pdf\n",
      "C:\\Users\\Admin\\Documents\\webs_crawling\\PDF Scrapping\\pdf\\007-UVT-WS 2020-21 Kapitel 2 Aufgabe 2.4 Loesung.pdf\n",
      "C:\\Users\\Admin\\Documents\\webs_crawling\\PDF Scrapping\\pdf\\008b-UVT-WS 2020-21 Kapitel 3 Reaktionsordnung und Umsatz.pdf\n",
      "C:\\Users\\Admin\\Documents\\webs_crawling\\PDF Scrapping\\pdf\\009-UVT-WS 2020-21 Kapitel 3 Aufgabe 3.1 Loesung.pdf\n",
      "C:\\Users\\Admin\\Documents\\webs_crawling\\PDF Scrapping\\pdf\\010b-UVT-WS 2020-21 Kapitel 3 Reaktorbetriebsweisen.pdf\n",
      "C:\\Users\\Admin\\Documents\\webs_crawling\\PDF Scrapping\\pdf\\011-UVT-WS 2020-21 Kapitel 3 Aufgabe 3.2 Loesung.pdf\n",
      "C:\\Users\\Admin\\Documents\\webs_crawling\\PDF Scrapping\\pdf\\012b-UVT-WS 2020-21 Kapitel 3 Verweilzeit.pdf\n",
      "C:\\Users\\Admin\\Documents\\webs_crawling\\PDF Scrapping\\pdf\\013-UVT-WS 2020-21 Kapitel 3 Aufgabe 3.3 Loesung.pdf\n",
      "C:\\Users\\Admin\\Documents\\webs_crawling\\PDF Scrapping\\pdf\\014b-UVT-WS 2020-21 Kapitel 3 Biologische Stoffumwandlung.pdf\n",
      "C:\\Users\\Admin\\Documents\\webs_crawling\\PDF Scrapping\\pdf\\015b-UVT-WS 2020-21 Kapitel 4.1.1 Zerkleinerung.pdf\n",
      "C:\\Users\\Admin\\Documents\\webs_crawling\\PDF Scrapping\\pdf\\016-UVT-WS 2020-21 Kapitel 4.1.1 Aufgabe 4.1 Loesung.pdf\n",
      "C:\\Users\\Admin\\Documents\\webs_crawling\\PDF Scrapping\\pdf\\017-UVT-WS 2020-21 Kapitel 4.1.2  Sortieren Klassieren.pdf\n",
      "C:\\Users\\Admin\\Documents\\webs_crawling\\PDF Scrapping\\pdf\\019-UVT-WS 2020-21 Kapitel 4.2.1 Sedimentation 1.pdf\n",
      "C:\\Users\\Admin\\Documents\\webs_crawling\\PDF Scrapping\\pdf\\020-UVT-SoSe 2020 Kapitel 4.2.1 Herleitung Stokes-Gleichung - Mueller 2014.pdf\n",
      "C:\\Users\\Admin\\Documents\\webs_crawling\\PDF Scrapping\\pdf\\021-UVT-WS 2020-21 Kapitel 4.2.1 Aufgabe 4.2 Loesung.pdf\n",
      "C:\\Users\\Admin\\Documents\\webs_crawling\\PDF Scrapping\\pdf\\022-UVT-WS 2020-21 Kapitel 4.2.1 Aufgabe 4.3 Loesung.pdf\n",
      "C:\\Users\\Admin\\Documents\\webs_crawling\\PDF Scrapping\\pdf\\023-UVT-WS 2020-21 Kapitel 4.2.2 Sedimentation 2.pdf\n",
      "C:\\Users\\Admin\\Documents\\webs_crawling\\PDF Scrapping\\pdf\\024-UVT-WS 2020-21 Kapitel 4.2.2 Aufgabe 4.4 Loesung.pdf\n",
      "C:\\Users\\Admin\\Documents\\webs_crawling\\PDF Scrapping\\pdf\\025a-UVT-WS 2020-21 Kapitel 4.2.3 Abscheider.pdf\n",
      "C:\\Users\\Admin\\Documents\\webs_crawling\\PDF Scrapping\\pdf\\025b-UVT-WS 2020-21 Kapitel 4.2.3 Abscheider DIN-EN 858-2 HAW.pdf\n",
      "C:\\Users\\Admin\\Documents\\webs_crawling\\PDF Scrapping\\pdf\\025c-UVT-WS 2020-21 Kapitel 4.2.3 Abscheider DIN EN 1825-2 HAW.pdf\n",
      "C:\\Users\\Admin\\Documents\\webs_crawling\\PDF Scrapping\\pdf\\026-UVT-WS 2020-21 Kapitel 4.2.3 Aufgabe 4.5 Loesung.pdf\n",
      "C:\\Users\\Admin\\Documents\\webs_crawling\\PDF Scrapping\\pdf\\027-UVT-WS 2020-21 Kapitel 4.2.4 Flotation.pdf\n",
      "C:\\Users\\Admin\\Documents\\webs_crawling\\PDF Scrapping\\pdf\\028-UVT-WS 2020-21 Kapitel 4.2.4 Aufgabe 4.6 Loesung.pdf\n",
      "C:\\Users\\Admin\\Documents\\webs_crawling\\PDF Scrapping\\pdf\\029-UVT-WS 2020-21 Kapitel 4.3.1 Durchstroemung von Partikelschichten.pdf\n",
      "C:\\Users\\Admin\\Documents\\webs_crawling\\PDF Scrapping\\pdf\\030-UVT-WS 2020-21 Kapitel 4.3.1 Aufgabe 4.7 Loesung.pdf\n",
      "C:\\Users\\Admin\\Documents\\webs_crawling\\PDF Scrapping\\pdf\\031-UVT-WS 2020-21 Kapitel 4.3.1 Aufgabe 4.8 Loesung.pdf\n",
      "C:\\Users\\Admin\\Documents\\webs_crawling\\PDF Scrapping\\pdf\\032-UVT-WS 2020-21 Kapitel 4.3.1 Aufgabe 4.9 Loesung.pdf\n",
      "C:\\Users\\Admin\\Documents\\webs_crawling\\PDF Scrapping\\pdf\\033-UVT-WS 2020-21 Kapitel 4.3.2 Kuchenfiltration.pdf\n",
      "C:\\Users\\Admin\\Documents\\webs_crawling\\PDF Scrapping\\pdf\\034-UVT-WS 2020-21 Kapitel 4.3.2 Aufgabe 4.10 Loesung.pdf\n",
      "C:\\Users\\Admin\\Documents\\webs_crawling\\PDF Scrapping\\pdf\\035-UVT-WS 2020-21 Kapitel 4.3.2 Aufgabe 4.11 Loesung.pdf\n",
      "C:\\Users\\Admin\\Documents\\webs_crawling\\PDF Scrapping\\pdf\\036-UVT-WS 2020-21 Kapitel 4.3.3 Auspressen.pdf\n",
      "C:\\Users\\Admin\\Documents\\webs_crawling\\PDF Scrapping\\pdf\\037-UVT-WS 2020-21 Kapitel 4.3.4 Tiefenfiltration.pdf\n",
      "C:\\Users\\Admin\\Documents\\webs_crawling\\PDF Scrapping\\pdf\\038-UVT-WS 2020-21 Kapitel 4.3.4 Aufgabe 4.12 Loesung.pdf\n",
      "C:\\Users\\Admin\\Documents\\webs_crawling\\PDF Scrapping\\pdf\\039-UVT-WS 2020-21 Kapitel 4.3.4 Aufgabe 4.13 Loesung.pdf\n",
      "C:\\Users\\Admin\\Documents\\webs_crawling\\PDF Scrapping\\pdf\\040-UVT-WS 2020-21 Kapitel 4.3.5 Sieb- und Membranfiltration.pdf\n",
      "C:\\Users\\Admin\\Documents\\webs_crawling\\PDF Scrapping\\pdf\\041a-UVT-WS 2020-21 Kapitel 4.3.6 Wirbelschicht.pdf\n",
      "C:\\Users\\Admin\\Documents\\webs_crawling\\PDF Scrapping\\pdf\\041b-UVT-WS 2020-21 Kapitel 4.3.6 Wirbelschichten - Mueller 2014.pdf\n",
      "C:\\Users\\Admin\\Documents\\webs_crawling\\PDF Scrapping\\pdf\\042-UVT-WS 2020-21 Kapitel 4.3.6 Aufgabe 4.14 Loesung.pdf\n",
      "C:\\Users\\Admin\\Documents\\webs_crawling\\PDF Scrapping\\pdf\\043-UVT-WS 2020-21 Kapitel 4.3.7 Beispiel Biofiltration Teil 1 Theorie.pdf\n",
      "C:\\Users\\Admin\\Documents\\webs_crawling\\PDF Scrapping\\pdf\\044-UVT-WS 2020-21 Kapitel 4.3.7 Beispiel Biofiltration Teil 2 Praxis.pdf\n",
      "C:\\Users\\Admin\\Documents\\webs_crawling\\PDF Scrapping\\pdf\\045-UVT-WS 2020-21 Kapitel 4.3.7 Aufgabe 4.15b Loesung.pdf\n",
      "C:\\Users\\Admin\\Documents\\webs_crawling\\PDF Scrapping\\pdf\\046-UVT-WS 2020-21 Kapitel 4.3.7 Aufgabe 4.15c Loesung.pdf\n",
      "C:\\Users\\Admin\\Documents\\webs_crawling\\PDF Scrapping\\pdf\\048-UVT-WS 2020-21 Kapitel 4.3.7 Beispiel Biofiltration Teil 3 Diskussion.pdf\n",
      "C:\\Users\\Admin\\Documents\\webs_crawling\\PDF Scrapping\\pdf\\049a-UVT-WS 2020-21 Kapitel 4.4 Partikelabscheidung aus Gasen.pdf\n",
      "C:\\Users\\Admin\\Documents\\webs_crawling\\PDF Scrapping\\pdf\\049b-UVT-WS 2020-21 Kapitel 4.4 Staubfiltration - Mueller 2014.pdf\n",
      "C:\\Users\\Admin\\Documents\\webs_crawling\\PDF Scrapping\\pdf\\050-UVT-WS 2020-21 Kapitel 4.4 Aufgabe 4.16 Loesung.pdf\n",
      "C:\\Users\\Admin\\Documents\\webs_crawling\\PDF Scrapping\\pdf\\051-UVT-WS 2020-21 Kapitel 4.4 Aufgabe 4.17 Loesung.pdf\n",
      "C:\\Users\\Admin\\Documents\\webs_crawling\\PDF Scrapping\\pdf\\052-UVT-WS 2020-21 Kapitel 2-4 Fragenbeispiele mit Lösungen.pdf\n",
      "C:\\Users\\Admin\\Documents\\webs_crawling\\PDF Scrapping\\pdf\\053-UVT-WS 2020-21 Kapitel 5.1.1 Grundlagen TVT.pdf\n",
      "C:\\Users\\Admin\\Documents\\webs_crawling\\PDF Scrapping\\pdf\\054-UVT-WS 2020-21 Kapitel 5.1.1 Grundlagen TVT - Lohrengel 2017.pdf\n",
      "C:\\Users\\Admin\\Documents\\webs_crawling\\PDF Scrapping\\pdf\\055-UVT-WS 2020-21 Kapitel 5.1.1 Aufgabe 5.1 Lösung.pdf\n",
      "C:\\Users\\Admin\\Documents\\webs_crawling\\PDF Scrapping\\pdf\\056-UVT-WS 2020-21 Kapitel 5.1.1 Aufgabe 5.2 Lösung.pdf\n",
      "C:\\Users\\Admin\\Documents\\webs_crawling\\PDF Scrapping\\pdf\\057b-UVT-WS 2020-21 Kapitel 5.1.2 Phasengleichgewichte.pdf\n",
      "C:\\Users\\Admin\\Documents\\webs_crawling\\PDF Scrapping\\pdf\\058-UVT-WS 2020-21 Kapitel 5.1.2 Aufgabe 5.3 Lösung.pdf\n",
      "C:\\Users\\Admin\\Documents\\webs_crawling\\PDF Scrapping\\pdf\\059-UVT-WS 2020-21 Kapitel 5.2.1 Verdampfung.pdf\n",
      "C:\\Users\\Admin\\Documents\\webs_crawling\\PDF Scrapping\\pdf\\060-UVT-WS 2020-21 Kapitel 5.2.1 Aufgabe 5.4 Lösung.pdf\n",
      "C:\\Users\\Admin\\Documents\\webs_crawling\\PDF Scrapping\\pdf\\061-UVT-WS 2020-21 Kapitel 5.2.1 Aufgabe 5.5 Lösung.pdf\n",
      "C:\\Users\\Admin\\Documents\\webs_crawling\\PDF Scrapping\\pdf\\062-UVT-WS 2020-21 Kapitel 5.2.1 Aufgabe 5.6 Lösung.pdf\n",
      "C:\\Users\\Admin\\Documents\\webs_crawling\\PDF Scrapping\\pdf\\063-UVT-WS 2020-21 Kapitel 5.2.1 Aufgabe 5.7 Lösung.pdf\n",
      "C:\\Users\\Admin\\Documents\\webs_crawling\\PDF Scrapping\\pdf\\064-UVT-WS 2020-21 Kapitel 5.2.1 Aufgabe 5.8 Lösung.pdf\n",
      "C:\\Users\\Admin\\Documents\\webs_crawling\\PDF Scrapping\\pdf\\065-UVT-WS 2020-21 Kapitel 5.2.2 Kristallisation und Fällung.pdf\n",
      "C:\\Users\\Admin\\Documents\\webs_crawling\\PDF Scrapping\\pdf\\066-UVT-WS 2020-21 Kapitel 5.2.3 Trocknung.pdf\n",
      "C:\\Users\\Admin\\Documents\\webs_crawling\\PDF Scrapping\\pdf\\067-UVT-WS 2020-21 Kapitel 5.2.3 Aufgabe 5.09 Lösung.pdf\n",
      "C:\\Users\\Admin\\Documents\\webs_crawling\\PDF Scrapping\\pdf\\068-UVT-WS 2020-21 Kapitel 5.2.3 Aufgabe 5.10 Lösung.pdf\n",
      "C:\\Users\\Admin\\Documents\\webs_crawling\\PDF Scrapping\\pdf\\069-UVT-WS 2020-21 Kapitel 5.2.3 Aufgabe 5.11 Lösung.pdf\n",
      "C:\\Users\\Admin\\Documents\\webs_crawling\\PDF Scrapping\\pdf\\070-UVT-WS 2020-21 Kapitel 5.3 Rektifikation.pdf\n",
      "C:\\Users\\Admin\\Documents\\webs_crawling\\PDF Scrapping\\pdf\\071-UVT-WS 2020-21 Kapitel 5.3 Aufgabe 5.12 Lösung.pdf\n",
      "C:\\Users\\Admin\\Documents\\webs_crawling\\PDF Scrapping\\pdf\\072-UVT-WS 2020-21 Kapitel 5.3 Aufgabe 5.13 Lösung.pdf\n",
      "C:\\Users\\Admin\\Documents\\webs_crawling\\PDF Scrapping\\pdf\\073-UVT-WS 2020-21 Kapitel 5.3 Aufgabe 5.14 Lösung.pdf\n",
      "C:\\Users\\Admin\\Documents\\webs_crawling\\PDF Scrapping\\pdf\\074-UVT-WS 2020-21 Kapitel 5.3 Rektifikation Massenbilanzen - Lohrengel 2017.pdf\n",
      "C:\\Users\\Admin\\Documents\\webs_crawling\\PDF Scrapping\\pdf\\075-UVT-WS 2020-21 Kapitel 5.3 Aufgabe 5.15 Lösung.pdf\n",
      "C:\\Users\\Admin\\Documents\\webs_crawling\\PDF Scrapping\\pdf\\076-UVT-WS 2020-21 Kapitel 5.4.1 Absorption.pdf\n",
      "C:\\Users\\Admin\\Documents\\webs_crawling\\PDF Scrapping\\pdf\\077-UVT-WS 2020-21 Kapitel 5.4.1 Aufgabe 5.16 Lösung.pdf\n",
      "C:\\Users\\Admin\\Documents\\webs_crawling\\PDF Scrapping\\pdf\\078-UVT-WS 2020-21 Kapitel 5.4.1 Aufgabe 5.17 Lösung.pdf\n",
      "C:\\Users\\Admin\\Documents\\webs_crawling\\PDF Scrapping\\pdf\\079-UVT-WS 2020-21 Kapitel 5.4.2 Adsorption.pdf\n",
      "C:\\Users\\Admin\\Documents\\webs_crawling\\PDF Scrapping\\pdf\\080-UVT-WS 2020-21 Kapitel 5.4.2 Aufgabe 5.18 Lösung.pdf\n"
     ]
    },
    {
     "name": "stdout",
     "output_type": "stream",
     "text": [
      "C:\\Users\\Admin\\Documents\\webs_crawling\\PDF Scrapping\\pdf\\081-UVT-WS 2020-21 Kapitel 5 Fragenbeispiele mit Lösungen.pdf\n"
     ]
    },
    {
     "ename": "PdfReadError",
     "evalue": "Could not find object.",
     "output_type": "error",
     "traceback": [
      "\u001b[1;31m---------------------------------------------------------------------------\u001b[0m",
      "\u001b[1;31mPdfReadError\u001b[0m                              Traceback (most recent call last)",
      "\u001b[1;32m<ipython-input-31-b772ac0fddac>\u001b[0m in \u001b[0;36m<module>\u001b[1;34m\u001b[0m\n\u001b[0;32m      8\u001b[0m \u001b[1;33m\u001b[0m\u001b[0m\n\u001b[0;32m      9\u001b[0m \u001b[1;32mwith\u001b[0m \u001b[0mopen\u001b[0m\u001b[1;33m(\u001b[0m\u001b[1;34m\"full.pdf\"\u001b[0m\u001b[1;33m,\u001b[0m \u001b[1;34m'wb'\u001b[0m\u001b[1;33m)\u001b[0m \u001b[1;32mas\u001b[0m \u001b[0moutput\u001b[0m\u001b[1;33m:\u001b[0m\u001b[1;33m\u001b[0m\u001b[1;33m\u001b[0m\u001b[0m\n\u001b[1;32m---> 10\u001b[1;33m     \u001b[0mmerger\u001b[0m\u001b[1;33m.\u001b[0m\u001b[0mwrite\u001b[0m\u001b[1;33m(\u001b[0m\u001b[0moutput\u001b[0m\u001b[1;33m)\u001b[0m\u001b[1;33m\u001b[0m\u001b[1;33m\u001b[0m\u001b[0m\n\u001b[0m\u001b[0;32m     11\u001b[0m     \u001b[0mmerger\u001b[0m\u001b[1;33m.\u001b[0m\u001b[0mclose\u001b[0m\u001b[1;33m(\u001b[0m\u001b[1;33m)\u001b[0m\u001b[1;33m\u001b[0m\u001b[1;33m\u001b[0m\u001b[0m\n",
      "\u001b[1;32mc:\\users\\admin\\miniconda3\\envs\\flask\\lib\\site-packages\\PyPDF2\\merger.py\u001b[0m in \u001b[0;36mwrite\u001b[1;34m(self, fileobj)\u001b[0m\n\u001b[0;32m    228\u001b[0m \u001b[1;33m\u001b[0m\u001b[0m\n\u001b[0;32m    229\u001b[0m         \u001b[1;31m# Write the output to the file\u001b[0m\u001b[1;33m\u001b[0m\u001b[1;33m\u001b[0m\u001b[1;33m\u001b[0m\u001b[0m\n\u001b[1;32m--> 230\u001b[1;33m         \u001b[0mself\u001b[0m\u001b[1;33m.\u001b[0m\u001b[0moutput\u001b[0m\u001b[1;33m.\u001b[0m\u001b[0mwrite\u001b[0m\u001b[1;33m(\u001b[0m\u001b[0mfileobj\u001b[0m\u001b[1;33m)\u001b[0m\u001b[1;33m\u001b[0m\u001b[1;33m\u001b[0m\u001b[0m\n\u001b[0m\u001b[0;32m    231\u001b[0m \u001b[1;33m\u001b[0m\u001b[0m\n\u001b[0;32m    232\u001b[0m         \u001b[1;32mif\u001b[0m \u001b[0mmy_file\u001b[0m\u001b[1;33m:\u001b[0m\u001b[1;33m\u001b[0m\u001b[1;33m\u001b[0m\u001b[0m\n",
      "\u001b[1;32mc:\\users\\admin\\miniconda3\\envs\\flask\\lib\\site-packages\\PyPDF2\\pdf.py\u001b[0m in \u001b[0;36mwrite\u001b[1;34m(self, stream)\u001b[0m\n\u001b[0;32m    480\u001b[0m         \u001b[0mself\u001b[0m\u001b[1;33m.\u001b[0m\u001b[0mstack\u001b[0m \u001b[1;33m=\u001b[0m \u001b[1;33m[\u001b[0m\u001b[1;33m]\u001b[0m\u001b[1;33m\u001b[0m\u001b[1;33m\u001b[0m\u001b[0m\n\u001b[0;32m    481\u001b[0m         \u001b[1;32mif\u001b[0m \u001b[0mdebug\u001b[0m\u001b[1;33m:\u001b[0m \u001b[0mprint\u001b[0m\u001b[1;33m(\u001b[0m\u001b[1;33m(\u001b[0m\u001b[1;34m\"ERM:\"\u001b[0m\u001b[1;33m,\u001b[0m \u001b[0mexternalReferenceMap\u001b[0m\u001b[1;33m,\u001b[0m \u001b[1;34m\"root:\"\u001b[0m\u001b[1;33m,\u001b[0m \u001b[0mself\u001b[0m\u001b[1;33m.\u001b[0m\u001b[0m_root\u001b[0m\u001b[1;33m)\u001b[0m\u001b[1;33m)\u001b[0m\u001b[1;33m\u001b[0m\u001b[1;33m\u001b[0m\u001b[0m\n\u001b[1;32m--> 482\u001b[1;33m         \u001b[0mself\u001b[0m\u001b[1;33m.\u001b[0m\u001b[0m_sweepIndirectReferences\u001b[0m\u001b[1;33m(\u001b[0m\u001b[0mexternalReferenceMap\u001b[0m\u001b[1;33m,\u001b[0m \u001b[0mself\u001b[0m\u001b[1;33m.\u001b[0m\u001b[0m_root\u001b[0m\u001b[1;33m)\u001b[0m\u001b[1;33m\u001b[0m\u001b[1;33m\u001b[0m\u001b[0m\n\u001b[0m\u001b[0;32m    483\u001b[0m         \u001b[1;32mdel\u001b[0m \u001b[0mself\u001b[0m\u001b[1;33m.\u001b[0m\u001b[0mstack\u001b[0m\u001b[1;33m\u001b[0m\u001b[1;33m\u001b[0m\u001b[0m\n\u001b[0;32m    484\u001b[0m \u001b[1;33m\u001b[0m\u001b[0m\n",
      "\u001b[1;32mc:\\users\\admin\\miniconda3\\envs\\flask\\lib\\site-packages\\PyPDF2\\pdf.py\u001b[0m in \u001b[0;36m_sweepIndirectReferences\u001b[1;34m(self, externMap, data)\u001b[0m\n\u001b[0;32m    569\u001b[0m                     \u001b[0mself\u001b[0m\u001b[1;33m.\u001b[0m\u001b[0mstack\u001b[0m\u001b[1;33m.\u001b[0m\u001b[0mappend\u001b[0m\u001b[1;33m(\u001b[0m\u001b[0mdata\u001b[0m\u001b[1;33m.\u001b[0m\u001b[0midnum\u001b[0m\u001b[1;33m)\u001b[0m\u001b[1;33m\u001b[0m\u001b[1;33m\u001b[0m\u001b[0m\n\u001b[0;32m    570\u001b[0m                     \u001b[0mrealdata\u001b[0m \u001b[1;33m=\u001b[0m \u001b[0mself\u001b[0m\u001b[1;33m.\u001b[0m\u001b[0mgetObject\u001b[0m\u001b[1;33m(\u001b[0m\u001b[0mdata\u001b[0m\u001b[1;33m)\u001b[0m\u001b[1;33m\u001b[0m\u001b[1;33m\u001b[0m\u001b[0m\n\u001b[1;32m--> 571\u001b[1;33m                     \u001b[0mself\u001b[0m\u001b[1;33m.\u001b[0m\u001b[0m_sweepIndirectReferences\u001b[0m\u001b[1;33m(\u001b[0m\u001b[0mexternMap\u001b[0m\u001b[1;33m,\u001b[0m \u001b[0mrealdata\u001b[0m\u001b[1;33m)\u001b[0m\u001b[1;33m\u001b[0m\u001b[1;33m\u001b[0m\u001b[0m\n\u001b[0m\u001b[0;32m    572\u001b[0m                     \u001b[1;32mreturn\u001b[0m \u001b[0mdata\u001b[0m\u001b[1;33m\u001b[0m\u001b[1;33m\u001b[0m\u001b[0m\n\u001b[0;32m    573\u001b[0m             \u001b[1;32melse\u001b[0m\u001b[1;33m:\u001b[0m\u001b[1;33m\u001b[0m\u001b[1;33m\u001b[0m\u001b[0m\n",
      "\u001b[1;32mc:\\users\\admin\\miniconda3\\envs\\flask\\lib\\site-packages\\PyPDF2\\pdf.py\u001b[0m in \u001b[0;36m_sweepIndirectReferences\u001b[1;34m(self, externMap, data)\u001b[0m\n\u001b[0;32m    545\u001b[0m             \u001b[1;32mfor\u001b[0m \u001b[0mkey\u001b[0m\u001b[1;33m,\u001b[0m \u001b[0mvalue\u001b[0m \u001b[1;32min\u001b[0m \u001b[0mlist\u001b[0m\u001b[1;33m(\u001b[0m\u001b[0mdata\u001b[0m\u001b[1;33m.\u001b[0m\u001b[0mitems\u001b[0m\u001b[1;33m(\u001b[0m\u001b[1;33m)\u001b[0m\u001b[1;33m)\u001b[0m\u001b[1;33m:\u001b[0m\u001b[1;33m\u001b[0m\u001b[1;33m\u001b[0m\u001b[0m\n\u001b[0;32m    546\u001b[0m                 \u001b[0morigvalue\u001b[0m \u001b[1;33m=\u001b[0m \u001b[0mvalue\u001b[0m\u001b[1;33m\u001b[0m\u001b[1;33m\u001b[0m\u001b[0m\n\u001b[1;32m--> 547\u001b[1;33m                 \u001b[0mvalue\u001b[0m \u001b[1;33m=\u001b[0m \u001b[0mself\u001b[0m\u001b[1;33m.\u001b[0m\u001b[0m_sweepIndirectReferences\u001b[0m\u001b[1;33m(\u001b[0m\u001b[0mexternMap\u001b[0m\u001b[1;33m,\u001b[0m \u001b[0mvalue\u001b[0m\u001b[1;33m)\u001b[0m\u001b[1;33m\u001b[0m\u001b[1;33m\u001b[0m\u001b[0m\n\u001b[0m\u001b[0;32m    548\u001b[0m                 \u001b[1;32mif\u001b[0m \u001b[0misinstance\u001b[0m\u001b[1;33m(\u001b[0m\u001b[0mvalue\u001b[0m\u001b[1;33m,\u001b[0m \u001b[0mStreamObject\u001b[0m\u001b[1;33m)\u001b[0m\u001b[1;33m:\u001b[0m\u001b[1;33m\u001b[0m\u001b[1;33m\u001b[0m\u001b[0m\n\u001b[0;32m    549\u001b[0m                     \u001b[1;31m# a dictionary value is a stream.  streams must be indirect\u001b[0m\u001b[1;33m\u001b[0m\u001b[1;33m\u001b[0m\u001b[1;33m\u001b[0m\u001b[0m\n",
      "\u001b[1;32mc:\\users\\admin\\miniconda3\\envs\\flask\\lib\\site-packages\\PyPDF2\\pdf.py\u001b[0m in \u001b[0;36m_sweepIndirectReferences\u001b[1;34m(self, externMap, data)\u001b[0m\n\u001b[0;32m    569\u001b[0m                     \u001b[0mself\u001b[0m\u001b[1;33m.\u001b[0m\u001b[0mstack\u001b[0m\u001b[1;33m.\u001b[0m\u001b[0mappend\u001b[0m\u001b[1;33m(\u001b[0m\u001b[0mdata\u001b[0m\u001b[1;33m.\u001b[0m\u001b[0midnum\u001b[0m\u001b[1;33m)\u001b[0m\u001b[1;33m\u001b[0m\u001b[1;33m\u001b[0m\u001b[0m\n\u001b[0;32m    570\u001b[0m                     \u001b[0mrealdata\u001b[0m \u001b[1;33m=\u001b[0m \u001b[0mself\u001b[0m\u001b[1;33m.\u001b[0m\u001b[0mgetObject\u001b[0m\u001b[1;33m(\u001b[0m\u001b[0mdata\u001b[0m\u001b[1;33m)\u001b[0m\u001b[1;33m\u001b[0m\u001b[1;33m\u001b[0m\u001b[0m\n\u001b[1;32m--> 571\u001b[1;33m                     \u001b[0mself\u001b[0m\u001b[1;33m.\u001b[0m\u001b[0m_sweepIndirectReferences\u001b[0m\u001b[1;33m(\u001b[0m\u001b[0mexternMap\u001b[0m\u001b[1;33m,\u001b[0m \u001b[0mrealdata\u001b[0m\u001b[1;33m)\u001b[0m\u001b[1;33m\u001b[0m\u001b[1;33m\u001b[0m\u001b[0m\n\u001b[0m\u001b[0;32m    572\u001b[0m                     \u001b[1;32mreturn\u001b[0m \u001b[0mdata\u001b[0m\u001b[1;33m\u001b[0m\u001b[1;33m\u001b[0m\u001b[0m\n\u001b[0;32m    573\u001b[0m             \u001b[1;32melse\u001b[0m\u001b[1;33m:\u001b[0m\u001b[1;33m\u001b[0m\u001b[1;33m\u001b[0m\u001b[0m\n",
      "\u001b[1;32mc:\\users\\admin\\miniconda3\\envs\\flask\\lib\\site-packages\\PyPDF2\\pdf.py\u001b[0m in \u001b[0;36m_sweepIndirectReferences\u001b[1;34m(self, externMap, data)\u001b[0m\n\u001b[0;32m    545\u001b[0m             \u001b[1;32mfor\u001b[0m \u001b[0mkey\u001b[0m\u001b[1;33m,\u001b[0m \u001b[0mvalue\u001b[0m \u001b[1;32min\u001b[0m \u001b[0mlist\u001b[0m\u001b[1;33m(\u001b[0m\u001b[0mdata\u001b[0m\u001b[1;33m.\u001b[0m\u001b[0mitems\u001b[0m\u001b[1;33m(\u001b[0m\u001b[1;33m)\u001b[0m\u001b[1;33m)\u001b[0m\u001b[1;33m:\u001b[0m\u001b[1;33m\u001b[0m\u001b[1;33m\u001b[0m\u001b[0m\n\u001b[0;32m    546\u001b[0m                 \u001b[0morigvalue\u001b[0m \u001b[1;33m=\u001b[0m \u001b[0mvalue\u001b[0m\u001b[1;33m\u001b[0m\u001b[1;33m\u001b[0m\u001b[0m\n\u001b[1;32m--> 547\u001b[1;33m                 \u001b[0mvalue\u001b[0m \u001b[1;33m=\u001b[0m \u001b[0mself\u001b[0m\u001b[1;33m.\u001b[0m\u001b[0m_sweepIndirectReferences\u001b[0m\u001b[1;33m(\u001b[0m\u001b[0mexternMap\u001b[0m\u001b[1;33m,\u001b[0m \u001b[0mvalue\u001b[0m\u001b[1;33m)\u001b[0m\u001b[1;33m\u001b[0m\u001b[1;33m\u001b[0m\u001b[0m\n\u001b[0m\u001b[0;32m    548\u001b[0m                 \u001b[1;32mif\u001b[0m \u001b[0misinstance\u001b[0m\u001b[1;33m(\u001b[0m\u001b[0mvalue\u001b[0m\u001b[1;33m,\u001b[0m \u001b[0mStreamObject\u001b[0m\u001b[1;33m)\u001b[0m\u001b[1;33m:\u001b[0m\u001b[1;33m\u001b[0m\u001b[1;33m\u001b[0m\u001b[0m\n\u001b[0;32m    549\u001b[0m                     \u001b[1;31m# a dictionary value is a stream.  streams must be indirect\u001b[0m\u001b[1;33m\u001b[0m\u001b[1;33m\u001b[0m\u001b[1;33m\u001b[0m\u001b[0m\n",
      "\u001b[1;32mc:\\users\\admin\\miniconda3\\envs\\flask\\lib\\site-packages\\PyPDF2\\pdf.py\u001b[0m in \u001b[0;36m_sweepIndirectReferences\u001b[1;34m(self, externMap, data)\u001b[0m\n\u001b[0;32m    554\u001b[0m         \u001b[1;32melif\u001b[0m \u001b[0misinstance\u001b[0m\u001b[1;33m(\u001b[0m\u001b[0mdata\u001b[0m\u001b[1;33m,\u001b[0m \u001b[0mArrayObject\u001b[0m\u001b[1;33m)\u001b[0m\u001b[1;33m:\u001b[0m\u001b[1;33m\u001b[0m\u001b[1;33m\u001b[0m\u001b[0m\n\u001b[0;32m    555\u001b[0m             \u001b[1;32mfor\u001b[0m \u001b[0mi\u001b[0m \u001b[1;32min\u001b[0m \u001b[0mrange\u001b[0m\u001b[1;33m(\u001b[0m\u001b[0mlen\u001b[0m\u001b[1;33m(\u001b[0m\u001b[0mdata\u001b[0m\u001b[1;33m)\u001b[0m\u001b[1;33m)\u001b[0m\u001b[1;33m:\u001b[0m\u001b[1;33m\u001b[0m\u001b[1;33m\u001b[0m\u001b[0m\n\u001b[1;32m--> 556\u001b[1;33m                 \u001b[0mvalue\u001b[0m \u001b[1;33m=\u001b[0m \u001b[0mself\u001b[0m\u001b[1;33m.\u001b[0m\u001b[0m_sweepIndirectReferences\u001b[0m\u001b[1;33m(\u001b[0m\u001b[0mexternMap\u001b[0m\u001b[1;33m,\u001b[0m \u001b[0mdata\u001b[0m\u001b[1;33m[\u001b[0m\u001b[0mi\u001b[0m\u001b[1;33m]\u001b[0m\u001b[1;33m)\u001b[0m\u001b[1;33m\u001b[0m\u001b[1;33m\u001b[0m\u001b[0m\n\u001b[0m\u001b[0;32m    557\u001b[0m                 \u001b[1;32mif\u001b[0m \u001b[0misinstance\u001b[0m\u001b[1;33m(\u001b[0m\u001b[0mvalue\u001b[0m\u001b[1;33m,\u001b[0m \u001b[0mStreamObject\u001b[0m\u001b[1;33m)\u001b[0m\u001b[1;33m:\u001b[0m\u001b[1;33m\u001b[0m\u001b[1;33m\u001b[0m\u001b[0m\n\u001b[0;32m    558\u001b[0m                     \u001b[1;31m# an array value is a stream.  streams must be indirect\u001b[0m\u001b[1;33m\u001b[0m\u001b[1;33m\u001b[0m\u001b[1;33m\u001b[0m\u001b[0m\n",
      "\u001b[1;32mc:\\users\\admin\\miniconda3\\envs\\flask\\lib\\site-packages\\PyPDF2\\pdf.py\u001b[0m in \u001b[0;36m_sweepIndirectReferences\u001b[1;34m(self, externMap, data)\u001b[0m\n\u001b[0;32m    569\u001b[0m                     \u001b[0mself\u001b[0m\u001b[1;33m.\u001b[0m\u001b[0mstack\u001b[0m\u001b[1;33m.\u001b[0m\u001b[0mappend\u001b[0m\u001b[1;33m(\u001b[0m\u001b[0mdata\u001b[0m\u001b[1;33m.\u001b[0m\u001b[0midnum\u001b[0m\u001b[1;33m)\u001b[0m\u001b[1;33m\u001b[0m\u001b[1;33m\u001b[0m\u001b[0m\n\u001b[0;32m    570\u001b[0m                     \u001b[0mrealdata\u001b[0m \u001b[1;33m=\u001b[0m \u001b[0mself\u001b[0m\u001b[1;33m.\u001b[0m\u001b[0mgetObject\u001b[0m\u001b[1;33m(\u001b[0m\u001b[0mdata\u001b[0m\u001b[1;33m)\u001b[0m\u001b[1;33m\u001b[0m\u001b[1;33m\u001b[0m\u001b[0m\n\u001b[1;32m--> 571\u001b[1;33m                     \u001b[0mself\u001b[0m\u001b[1;33m.\u001b[0m\u001b[0m_sweepIndirectReferences\u001b[0m\u001b[1;33m(\u001b[0m\u001b[0mexternMap\u001b[0m\u001b[1;33m,\u001b[0m \u001b[0mrealdata\u001b[0m\u001b[1;33m)\u001b[0m\u001b[1;33m\u001b[0m\u001b[1;33m\u001b[0m\u001b[0m\n\u001b[0m\u001b[0;32m    572\u001b[0m                     \u001b[1;32mreturn\u001b[0m \u001b[0mdata\u001b[0m\u001b[1;33m\u001b[0m\u001b[1;33m\u001b[0m\u001b[0m\n\u001b[0;32m    573\u001b[0m             \u001b[1;32melse\u001b[0m\u001b[1;33m:\u001b[0m\u001b[1;33m\u001b[0m\u001b[1;33m\u001b[0m\u001b[0m\n",
      "\u001b[1;32mc:\\users\\admin\\miniconda3\\envs\\flask\\lib\\site-packages\\PyPDF2\\pdf.py\u001b[0m in \u001b[0;36m_sweepIndirectReferences\u001b[1;34m(self, externMap, data)\u001b[0m\n\u001b[0;32m    545\u001b[0m             \u001b[1;32mfor\u001b[0m \u001b[0mkey\u001b[0m\u001b[1;33m,\u001b[0m \u001b[0mvalue\u001b[0m \u001b[1;32min\u001b[0m \u001b[0mlist\u001b[0m\u001b[1;33m(\u001b[0m\u001b[0mdata\u001b[0m\u001b[1;33m.\u001b[0m\u001b[0mitems\u001b[0m\u001b[1;33m(\u001b[0m\u001b[1;33m)\u001b[0m\u001b[1;33m)\u001b[0m\u001b[1;33m:\u001b[0m\u001b[1;33m\u001b[0m\u001b[1;33m\u001b[0m\u001b[0m\n\u001b[0;32m    546\u001b[0m                 \u001b[0morigvalue\u001b[0m \u001b[1;33m=\u001b[0m \u001b[0mvalue\u001b[0m\u001b[1;33m\u001b[0m\u001b[1;33m\u001b[0m\u001b[0m\n\u001b[1;32m--> 547\u001b[1;33m                 \u001b[0mvalue\u001b[0m \u001b[1;33m=\u001b[0m \u001b[0mself\u001b[0m\u001b[1;33m.\u001b[0m\u001b[0m_sweepIndirectReferences\u001b[0m\u001b[1;33m(\u001b[0m\u001b[0mexternMap\u001b[0m\u001b[1;33m,\u001b[0m \u001b[0mvalue\u001b[0m\u001b[1;33m)\u001b[0m\u001b[1;33m\u001b[0m\u001b[1;33m\u001b[0m\u001b[0m\n\u001b[0m\u001b[0;32m    548\u001b[0m                 \u001b[1;32mif\u001b[0m \u001b[0misinstance\u001b[0m\u001b[1;33m(\u001b[0m\u001b[0mvalue\u001b[0m\u001b[1;33m,\u001b[0m \u001b[0mStreamObject\u001b[0m\u001b[1;33m)\u001b[0m\u001b[1;33m:\u001b[0m\u001b[1;33m\u001b[0m\u001b[1;33m\u001b[0m\u001b[0m\n\u001b[0;32m    549\u001b[0m                     \u001b[1;31m# a dictionary value is a stream.  streams must be indirect\u001b[0m\u001b[1;33m\u001b[0m\u001b[1;33m\u001b[0m\u001b[1;33m\u001b[0m\u001b[0m\n",
      "\u001b[1;32mc:\\users\\admin\\miniconda3\\envs\\flask\\lib\\site-packages\\PyPDF2\\pdf.py\u001b[0m in \u001b[0;36m_sweepIndirectReferences\u001b[1;34m(self, externMap, data)\u001b[0m\n\u001b[0;32m    554\u001b[0m         \u001b[1;32melif\u001b[0m \u001b[0misinstance\u001b[0m\u001b[1;33m(\u001b[0m\u001b[0mdata\u001b[0m\u001b[1;33m,\u001b[0m \u001b[0mArrayObject\u001b[0m\u001b[1;33m)\u001b[0m\u001b[1;33m:\u001b[0m\u001b[1;33m\u001b[0m\u001b[1;33m\u001b[0m\u001b[0m\n\u001b[0;32m    555\u001b[0m             \u001b[1;32mfor\u001b[0m \u001b[0mi\u001b[0m \u001b[1;32min\u001b[0m \u001b[0mrange\u001b[0m\u001b[1;33m(\u001b[0m\u001b[0mlen\u001b[0m\u001b[1;33m(\u001b[0m\u001b[0mdata\u001b[0m\u001b[1;33m)\u001b[0m\u001b[1;33m)\u001b[0m\u001b[1;33m:\u001b[0m\u001b[1;33m\u001b[0m\u001b[1;33m\u001b[0m\u001b[0m\n\u001b[1;32m--> 556\u001b[1;33m                 \u001b[0mvalue\u001b[0m \u001b[1;33m=\u001b[0m \u001b[0mself\u001b[0m\u001b[1;33m.\u001b[0m\u001b[0m_sweepIndirectReferences\u001b[0m\u001b[1;33m(\u001b[0m\u001b[0mexternMap\u001b[0m\u001b[1;33m,\u001b[0m \u001b[0mdata\u001b[0m\u001b[1;33m[\u001b[0m\u001b[0mi\u001b[0m\u001b[1;33m]\u001b[0m\u001b[1;33m)\u001b[0m\u001b[1;33m\u001b[0m\u001b[1;33m\u001b[0m\u001b[0m\n\u001b[0m\u001b[0;32m    557\u001b[0m                 \u001b[1;32mif\u001b[0m \u001b[0misinstance\u001b[0m\u001b[1;33m(\u001b[0m\u001b[0mvalue\u001b[0m\u001b[1;33m,\u001b[0m \u001b[0mStreamObject\u001b[0m\u001b[1;33m)\u001b[0m\u001b[1;33m:\u001b[0m\u001b[1;33m\u001b[0m\u001b[1;33m\u001b[0m\u001b[0m\n\u001b[0;32m    558\u001b[0m                     \u001b[1;31m# an array value is a stream.  streams must be indirect\u001b[0m\u001b[1;33m\u001b[0m\u001b[1;33m\u001b[0m\u001b[1;33m\u001b[0m\u001b[0m\n",
      "\u001b[1;32mc:\\users\\admin\\miniconda3\\envs\\flask\\lib\\site-packages\\PyPDF2\\pdf.py\u001b[0m in \u001b[0;36m_sweepIndirectReferences\u001b[1;34m(self, externMap, data)\u001b[0m\n\u001b[0;32m    584\u001b[0m                             \u001b[0mexternMap\u001b[0m\u001b[1;33m[\u001b[0m\u001b[0mdata\u001b[0m\u001b[1;33m.\u001b[0m\u001b[0mpdf\u001b[0m\u001b[1;33m]\u001b[0m\u001b[1;33m[\u001b[0m\u001b[0mdata\u001b[0m\u001b[1;33m.\u001b[0m\u001b[0mgeneration\u001b[0m\u001b[1;33m]\u001b[0m \u001b[1;33m=\u001b[0m \u001b[1;33m{\u001b[0m\u001b[1;33m}\u001b[0m\u001b[1;33m\u001b[0m\u001b[1;33m\u001b[0m\u001b[0m\n\u001b[0;32m    585\u001b[0m                         \u001b[0mexternMap\u001b[0m\u001b[1;33m[\u001b[0m\u001b[0mdata\u001b[0m\u001b[1;33m.\u001b[0m\u001b[0mpdf\u001b[0m\u001b[1;33m]\u001b[0m\u001b[1;33m[\u001b[0m\u001b[0mdata\u001b[0m\u001b[1;33m.\u001b[0m\u001b[0mgeneration\u001b[0m\u001b[1;33m]\u001b[0m\u001b[1;33m[\u001b[0m\u001b[0mdata\u001b[0m\u001b[1;33m.\u001b[0m\u001b[0midnum\u001b[0m\u001b[1;33m]\u001b[0m \u001b[1;33m=\u001b[0m \u001b[0mnewobj_ido\u001b[0m\u001b[1;33m\u001b[0m\u001b[1;33m\u001b[0m\u001b[0m\n\u001b[1;32m--> 586\u001b[1;33m                         \u001b[0mnewobj\u001b[0m \u001b[1;33m=\u001b[0m \u001b[0mself\u001b[0m\u001b[1;33m.\u001b[0m\u001b[0m_sweepIndirectReferences\u001b[0m\u001b[1;33m(\u001b[0m\u001b[0mexternMap\u001b[0m\u001b[1;33m,\u001b[0m \u001b[0mnewobj\u001b[0m\u001b[1;33m)\u001b[0m\u001b[1;33m\u001b[0m\u001b[1;33m\u001b[0m\u001b[0m\n\u001b[0m\u001b[0;32m    587\u001b[0m                         \u001b[0mself\u001b[0m\u001b[1;33m.\u001b[0m\u001b[0m_objects\u001b[0m\u001b[1;33m[\u001b[0m\u001b[0midnum\u001b[0m\u001b[1;33m-\u001b[0m\u001b[1;36m1\u001b[0m\u001b[1;33m]\u001b[0m \u001b[1;33m=\u001b[0m \u001b[0mnewobj\u001b[0m\u001b[1;33m\u001b[0m\u001b[1;33m\u001b[0m\u001b[0m\n\u001b[0;32m    588\u001b[0m                         \u001b[1;32mreturn\u001b[0m \u001b[0mnewobj_ido\u001b[0m\u001b[1;33m\u001b[0m\u001b[1;33m\u001b[0m\u001b[0m\n",
      "\u001b[1;32mc:\\users\\admin\\miniconda3\\envs\\flask\\lib\\site-packages\\PyPDF2\\pdf.py\u001b[0m in \u001b[0;36m_sweepIndirectReferences\u001b[1;34m(self, externMap, data)\u001b[0m\n\u001b[0;32m    545\u001b[0m             \u001b[1;32mfor\u001b[0m \u001b[0mkey\u001b[0m\u001b[1;33m,\u001b[0m \u001b[0mvalue\u001b[0m \u001b[1;32min\u001b[0m \u001b[0mlist\u001b[0m\u001b[1;33m(\u001b[0m\u001b[0mdata\u001b[0m\u001b[1;33m.\u001b[0m\u001b[0mitems\u001b[0m\u001b[1;33m(\u001b[0m\u001b[1;33m)\u001b[0m\u001b[1;33m)\u001b[0m\u001b[1;33m:\u001b[0m\u001b[1;33m\u001b[0m\u001b[1;33m\u001b[0m\u001b[0m\n\u001b[0;32m    546\u001b[0m                 \u001b[0morigvalue\u001b[0m \u001b[1;33m=\u001b[0m \u001b[0mvalue\u001b[0m\u001b[1;33m\u001b[0m\u001b[1;33m\u001b[0m\u001b[0m\n\u001b[1;32m--> 547\u001b[1;33m                 \u001b[0mvalue\u001b[0m \u001b[1;33m=\u001b[0m \u001b[0mself\u001b[0m\u001b[1;33m.\u001b[0m\u001b[0m_sweepIndirectReferences\u001b[0m\u001b[1;33m(\u001b[0m\u001b[0mexternMap\u001b[0m\u001b[1;33m,\u001b[0m \u001b[0mvalue\u001b[0m\u001b[1;33m)\u001b[0m\u001b[1;33m\u001b[0m\u001b[1;33m\u001b[0m\u001b[0m\n\u001b[0m\u001b[0;32m    548\u001b[0m                 \u001b[1;32mif\u001b[0m \u001b[0misinstance\u001b[0m\u001b[1;33m(\u001b[0m\u001b[0mvalue\u001b[0m\u001b[1;33m,\u001b[0m \u001b[0mStreamObject\u001b[0m\u001b[1;33m)\u001b[0m\u001b[1;33m:\u001b[0m\u001b[1;33m\u001b[0m\u001b[1;33m\u001b[0m\u001b[0m\n\u001b[0;32m    549\u001b[0m                     \u001b[1;31m# a dictionary value is a stream.  streams must be indirect\u001b[0m\u001b[1;33m\u001b[0m\u001b[1;33m\u001b[0m\u001b[1;33m\u001b[0m\u001b[0m\n",
      "\u001b[1;32mc:\\users\\admin\\miniconda3\\envs\\flask\\lib\\site-packages\\PyPDF2\\pdf.py\u001b[0m in \u001b[0;36m_sweepIndirectReferences\u001b[1;34m(self, externMap, data)\u001b[0m\n\u001b[0;32m    554\u001b[0m         \u001b[1;32melif\u001b[0m \u001b[0misinstance\u001b[0m\u001b[1;33m(\u001b[0m\u001b[0mdata\u001b[0m\u001b[1;33m,\u001b[0m \u001b[0mArrayObject\u001b[0m\u001b[1;33m)\u001b[0m\u001b[1;33m:\u001b[0m\u001b[1;33m\u001b[0m\u001b[1;33m\u001b[0m\u001b[0m\n\u001b[0;32m    555\u001b[0m             \u001b[1;32mfor\u001b[0m \u001b[0mi\u001b[0m \u001b[1;32min\u001b[0m \u001b[0mrange\u001b[0m\u001b[1;33m(\u001b[0m\u001b[0mlen\u001b[0m\u001b[1;33m(\u001b[0m\u001b[0mdata\u001b[0m\u001b[1;33m)\u001b[0m\u001b[1;33m)\u001b[0m\u001b[1;33m:\u001b[0m\u001b[1;33m\u001b[0m\u001b[1;33m\u001b[0m\u001b[0m\n\u001b[1;32m--> 556\u001b[1;33m                 \u001b[0mvalue\u001b[0m \u001b[1;33m=\u001b[0m \u001b[0mself\u001b[0m\u001b[1;33m.\u001b[0m\u001b[0m_sweepIndirectReferences\u001b[0m\u001b[1;33m(\u001b[0m\u001b[0mexternMap\u001b[0m\u001b[1;33m,\u001b[0m \u001b[0mdata\u001b[0m\u001b[1;33m[\u001b[0m\u001b[0mi\u001b[0m\u001b[1;33m]\u001b[0m\u001b[1;33m)\u001b[0m\u001b[1;33m\u001b[0m\u001b[1;33m\u001b[0m\u001b[0m\n\u001b[0m\u001b[0;32m    557\u001b[0m                 \u001b[1;32mif\u001b[0m \u001b[0misinstance\u001b[0m\u001b[1;33m(\u001b[0m\u001b[0mvalue\u001b[0m\u001b[1;33m,\u001b[0m \u001b[0mStreamObject\u001b[0m\u001b[1;33m)\u001b[0m\u001b[1;33m:\u001b[0m\u001b[1;33m\u001b[0m\u001b[1;33m\u001b[0m\u001b[0m\n\u001b[0;32m    558\u001b[0m                     \u001b[1;31m# an array value is a stream.  streams must be indirect\u001b[0m\u001b[1;33m\u001b[0m\u001b[1;33m\u001b[0m\u001b[1;33m\u001b[0m\u001b[0m\n",
      "\u001b[1;32mc:\\users\\admin\\miniconda3\\envs\\flask\\lib\\site-packages\\PyPDF2\\pdf.py\u001b[0m in \u001b[0;36m_sweepIndirectReferences\u001b[1;34m(self, externMap, data)\u001b[0m\n\u001b[0;32m    575\u001b[0m                 \u001b[1;32mif\u001b[0m \u001b[0mnewobj\u001b[0m \u001b[1;33m==\u001b[0m \u001b[1;32mNone\u001b[0m\u001b[1;33m:\u001b[0m\u001b[1;33m\u001b[0m\u001b[1;33m\u001b[0m\u001b[0m\n\u001b[0;32m    576\u001b[0m                     \u001b[1;32mtry\u001b[0m\u001b[1;33m:\u001b[0m\u001b[1;33m\u001b[0m\u001b[1;33m\u001b[0m\u001b[0m\n\u001b[1;32m--> 577\u001b[1;33m                         \u001b[0mnewobj\u001b[0m \u001b[1;33m=\u001b[0m \u001b[0mdata\u001b[0m\u001b[1;33m.\u001b[0m\u001b[0mpdf\u001b[0m\u001b[1;33m.\u001b[0m\u001b[0mgetObject\u001b[0m\u001b[1;33m(\u001b[0m\u001b[0mdata\u001b[0m\u001b[1;33m)\u001b[0m\u001b[1;33m\u001b[0m\u001b[1;33m\u001b[0m\u001b[0m\n\u001b[0m\u001b[0;32m    578\u001b[0m                         \u001b[0mself\u001b[0m\u001b[1;33m.\u001b[0m\u001b[0m_objects\u001b[0m\u001b[1;33m.\u001b[0m\u001b[0mappend\u001b[0m\u001b[1;33m(\u001b[0m\u001b[1;32mNone\u001b[0m\u001b[1;33m)\u001b[0m \u001b[1;31m# placeholder\u001b[0m\u001b[1;33m\u001b[0m\u001b[1;33m\u001b[0m\u001b[0m\n\u001b[0;32m    579\u001b[0m                         \u001b[0midnum\u001b[0m \u001b[1;33m=\u001b[0m \u001b[0mlen\u001b[0m\u001b[1;33m(\u001b[0m\u001b[0mself\u001b[0m\u001b[1;33m.\u001b[0m\u001b[0m_objects\u001b[0m\u001b[1;33m)\u001b[0m\u001b[1;33m\u001b[0m\u001b[1;33m\u001b[0m\u001b[0m\n",
      "\u001b[1;32mc:\\users\\admin\\miniconda3\\envs\\flask\\lib\\site-packages\\PyPDF2\\pdf.py\u001b[0m in \u001b[0;36mgetObject\u001b[1;34m(self, indirectReference)\u001b[0m\n\u001b[0;32m   1629\u001b[0m                         indirectReference.generation), utils.PdfReadWarning)\n\u001b[0;32m   1630\u001b[0m             \u001b[1;31m#if self.strict:\u001b[0m\u001b[1;33m\u001b[0m\u001b[1;33m\u001b[0m\u001b[1;33m\u001b[0m\u001b[0m\n\u001b[1;32m-> 1631\u001b[1;33m             \u001b[1;32mraise\u001b[0m \u001b[0mutils\u001b[0m\u001b[1;33m.\u001b[0m\u001b[0mPdfReadError\u001b[0m\u001b[1;33m(\u001b[0m\u001b[1;34m\"Could not find object.\"\u001b[0m\u001b[1;33m)\u001b[0m\u001b[1;33m\u001b[0m\u001b[1;33m\u001b[0m\u001b[0m\n\u001b[0m\u001b[0;32m   1632\u001b[0m         self.cacheIndirectObject(indirectReference.generation,\n\u001b[0;32m   1633\u001b[0m                     indirectReference.idnum, retval)\n",
      "\u001b[1;31mPdfReadError\u001b[0m: Could not find object."
     ]
    }
   ],
   "source": [
    "files = os.listdir(path)\n",
    "merger = PdfFileMerger()\n",
    "\n",
    "for file in files:\n",
    "    print(path + '\\\\' + file)\n",
    "    pdf = PdfFileReader(path + '\\\\' + file)\n",
    "    merger.append(pdf)\n",
    "\n",
    "with open(\"full.pdf\", 'wb') as output:\n",
    "    merger.write(output)\n",
    "    merger.close()"
   ]
  },
  {
   "cell_type": "code",
   "execution_count": null,
   "id": "transparent-trouble",
   "metadata": {},
   "outputs": [],
   "source": []
  }
 ],
 "metadata": {
  "kernelspec": {
   "display_name": "Python 3",
   "language": "python",
   "name": "python3"
  },
  "language_info": {
   "codemirror_mode": {
    "name": "ipython",
    "version": 3
   },
   "file_extension": ".py",
   "mimetype": "text/x-python",
   "name": "python",
   "nbconvert_exporter": "python",
   "pygments_lexer": "ipython3",
   "version": "3.8.5"
  }
 },
 "nbformat": 4,
 "nbformat_minor": 5
}
